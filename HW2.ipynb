{
 "cells": [
  {
   "cell_type": "code",
   "execution_count": 1,
   "id": "27a7eb09",
   "metadata": {},
   "outputs": [],
   "source": [
    "import pandas as pd\n",
    "import numpy as np\n",
    "import matplotlib.pyplot as plt"
   ]
  },
  {
   "cell_type": "code",
   "execution_count": 2,
   "id": "8afa433a",
   "metadata": {},
   "outputs": [],
   "source": [
    "df = pd.read_csv('./data/processed/mart.csv').dropna()\n",
    "df = df.drop(columns=[\"Unnamed: 0\"])\n",
    "target = \"raw_mix.lab.measure.sito_009\"\n",
    "features = df.columns[df.columns != target]\n",
    "X = df[features]\n",
    "y = df[target]"
   ]
  },
  {
   "cell_type": "code",
   "execution_count": 3,
   "id": "4c5af520",
   "metadata": {},
   "outputs": [],
   "source": [
    "from sklearn.linear_model import Lasso\n",
    "from sklearn.ensemble import GradientBoostingRegressor, RandomForestRegressor\n",
    "from sklearn.preprocessing import StandardScaler\n",
    "from sklearn.preprocessing import PolynomialFeatures\n",
    "from sklearn.pipeline import Pipeline\n",
    "from sklearn.model_selection import ShuffleSplit, TimeSeriesSplit, KFold\n",
    "from sklearn.model_selection import cross_validate\n",
    "from sklearn.metrics import mean_absolute_error\n"
   ]
  },
  {
   "cell_type": "code",
   "execution_count": 55,
   "id": "8129431e",
   "metadata": {},
   "outputs": [],
   "source": [
    "def train_and_evaluate_model(splitter, model):\n",
    "\n",
    "    scores = {'mae': [], 'baseline_mae': [], 'baseline_shifted_mae': [], 'same_direction': []}\n",
    "\n",
    "    for train_index, test_index in splitter.split(X):\n",
    "\n",
    "        scaler = StandardScaler().fit(X.iloc[train_index])\n",
    "        \n",
    "        X_train = scaler.transform(X.iloc[train_index])\n",
    "        X_test = scaler.transform(X.iloc[test_index])\n",
    "\n",
    "        y_train = y.iloc[train_index]\n",
    "        y_test = y.iloc[test_index]\n",
    "\n",
    "        model.fit(X_train, y_train)\n",
    "        \n",
    "        y_pred = model.predict(X_test)\n",
    "\n",
    "        scores['mae'].append(mean_absolute_error(y_test, y_pred))\n",
    "\n",
    "        scores['baseline_mae'].append(mean_absolute_error(y_test, np.full_like(y_test, y_test.mean())))\n",
    "\n",
    "        scores['baseline_shifted_mae'].append(mean_absolute_error(y_test[:-1], y_test[1:]))\n",
    "    \n",
    "        y_test_diff = y_test[1:].values - y_test[:-1].values\n",
    "        y_pred_diff = y_pred[1:] - y_pred[:-1]\n",
    "\n",
    "        scores['same_direction'].append(np.sum((y_test_diff * y_pred_diff) > 0) / len(y_test_diff))\n",
    "\n",
    "    scores = {key: sum(value) / len(value) for key, value in scores.items()}\n",
    "\n",
    "    return scores"
   ]
  },
  {
   "cell_type": "code",
   "execution_count": 49,
   "id": "17ca8fd3",
   "metadata": {},
   "outputs": [
    {
     "data": {
      "text/plain": [
       "{'mae': 1.1716765489387297,\n",
       " 'baseline_mae': 1.174485596707819,\n",
       " 'baseline_shifted_mae': 1.5130841121495329,\n",
       " 'same_direction': 0.0}"
      ]
     },
     "execution_count": 49,
     "metadata": {},
     "output_type": "execute_result"
    }
   ],
   "source": [
    "splitter = ShuffleSplit(n_splits=1, test_size=0.2, random_state=42)\n",
    "\n",
    "model = Lasso(alpha=0.5)\n",
    "\n",
    "train_and_evaluate_model(splitter, model)"
   ]
  },
  {
   "cell_type": "code",
   "execution_count": 50,
   "id": "85376c83",
   "metadata": {},
   "outputs": [
    {
     "data": {
      "text/plain": [
       "{'mae': 1.300039337939119,\n",
       " 'baseline_mae': 1.1858704709001389,\n",
       " 'baseline_shifted_mae': 1.2613636363636365,\n",
       " 'same_direction': 0.0}"
      ]
     },
     "execution_count": 50,
     "metadata": {},
     "output_type": "execute_result"
    }
   ],
   "source": [
    "splitter = TimeSeriesSplit(n_splits=5)\n",
    "\n",
    "model = Lasso(alpha=0.5)\n",
    "\n",
    "train_and_evaluate_model(splitter, model)"
   ]
  },
  {
   "cell_type": "code",
   "execution_count": 51,
   "id": "b14ea205",
   "metadata": {},
   "outputs": [
    {
     "data": {
      "text/plain": [
       "{'mae': 1.2476340682194,\n",
       " 'baseline_mae': 1.1901386580985804,\n",
       " 'baseline_shifted_mae': 1.2358755069652616,\n",
       " 'same_direction': 0.0}"
      ]
     },
     "execution_count": 51,
     "metadata": {},
     "output_type": "execute_result"
    }
   ],
   "source": [
    "splitter = KFold(n_splits=5)\n",
    "\n",
    "model = Lasso(alpha=0.5)\n",
    "\n",
    "train_and_evaluate_model(splitter, model)"
   ]
  },
  {
   "cell_type": "code",
   "execution_count": 52,
   "id": "4a7496cf",
   "metadata": {},
   "outputs": [
    {
     "data": {
      "text/plain": [
       "{'mae': 1.073101851851851,\n",
       " 'baseline_mae': 1.174485596707819,\n",
       " 'baseline_shifted_mae': 1.5130841121495329,\n",
       " 'same_direction': 0.5981308411214953}"
      ]
     },
     "execution_count": 52,
     "metadata": {},
     "output_type": "execute_result"
    }
   ],
   "source": [
    "splitter = ShuffleSplit(n_splits=1, test_size=0.2, random_state=42)\n",
    "\n",
    "model = RandomForestRegressor(random_state=42)\n",
    "\n",
    "train_and_evaluate_model(splitter, model)"
   ]
  },
  {
   "cell_type": "code",
   "execution_count": 53,
   "id": "302e498a",
   "metadata": {},
   "outputs": [
    {
     "data": {
      "text/plain": [
       "{'mae': 1.2739483146067418,\n",
       " 'baseline_mae': 1.1858704709001389,\n",
       " 'baseline_shifted_mae': 1.2613636363636365,\n",
       " 'same_direction': 0.5363636363636364}"
      ]
     },
     "execution_count": 53,
     "metadata": {},
     "output_type": "execute_result"
    }
   ],
   "source": [
    "splitter = TimeSeriesSplit(n_splits=5)\n",
    "\n",
    "model = RandomForestRegressor(random_state=42)\n",
    "\n",
    "train_and_evaluate_model(splitter, model)"
   ]
  },
  {
   "cell_type": "code",
   "execution_count": 54,
   "id": "92a91abf",
   "metadata": {},
   "outputs": [
    {
     "data": {
      "text/plain": [
       "{'mae': 1.2191010730356526,\n",
       " 'baseline_mae': 1.1901386580985804,\n",
       " 'baseline_shifted_mae': 1.2358755069652616,\n",
       " 'same_direction': 0.4813260447892788}"
      ]
     },
     "execution_count": 54,
     "metadata": {},
     "output_type": "execute_result"
    }
   ],
   "source": [
    "splitter = KFold(n_splits=5)\n",
    "\n",
    "model = RandomForestRegressor(random_state=42)\n",
    "\n",
    "train_and_evaluate_model(splitter, model)"
   ]
  },
  {
   "cell_type": "markdown",
   "id": "b03b87be",
   "metadata": {},
   "source": [
    "Выводы: \n",
    "\n",
    "- Наилучшие метрики модели показывают при простом разделении (аля train_test_split), однако при использовании KFold метрика приближается к baseline модели.\n",
    "\n",
    "- RandomForest показал лучшие результаты чем линейная регрессия с l1 регуляризацией."
   ]
  }
 ],
 "metadata": {
  "kernelspec": {
   "display_name": "Python 3",
   "language": "python",
   "name": "python3"
  },
  "language_info": {
   "codemirror_mode": {
    "name": "ipython",
    "version": 3
   },
   "file_extension": ".py",
   "mimetype": "text/x-python",
   "name": "python",
   "nbconvert_exporter": "python",
   "pygments_lexer": "ipython3",
   "version": "3.11.9"
  }
 },
 "nbformat": 4,
 "nbformat_minor": 5
}
